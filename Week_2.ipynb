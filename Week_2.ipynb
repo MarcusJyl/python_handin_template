{
 "cells": [
  {
   "cell_type": "markdown",
   "metadata": {},
   "source": [
    "# Week 2 handin"
   ]
  },
  {
   "cell_type": "markdown",
   "metadata": {},
   "source": [
    "## Assignment\n",
    "Create a python file with 3 functions:\n",
    "   def print_file_content(file) that can print content of a csv file to the console\n",
    "def write_list_to_file(output_file, lst) that can take a list of tuple and write each element to a new line in file\n",
    "rewrite the function so that it gets an arbitrary number of strings instead of a list\n",
    "def read_csv(input_file) that take a csv file and read each row into a list\n",
    "Add a functionality so that the file can be called from cli with 2 arguments\n",
    "path to csv file\n",
    "an argument --file file_name that if given will write the content to file_name or otherwise will print it to the console.\n",
    "Add a --help cli argument to describe how the module is used"
   ]
  },
  {
   "cell_type": "markdown",
   "metadata": {},
   "source": [
    "## Status\n",
    "Here is a status on the handin. How far you got. What is implemented and what is not"
   ]
  },
  {
   "cell_type": "markdown",
   "metadata": {},
   "source": [
    "## Solution part 1"
   ]
  },
  {
   "cell_type": "code",
   "execution_count": 1,
   "metadata": {
    "scrolled": false
   },
   "outputs": [
    {
     "name": "stdout",
     "output_type": "stream",
     "text": [
      "['1', '\"Eldon Base for stackable storage shelf', ' platinum\"', 'Muhammed MacIntyre', '3', '-213.25', '38.94', '35', 'Nunavut', 'Storage & Organization', '0.8']\n",
      "['2', '\"1.7 Cubic Foot Compact \"\"Cube\"\" Office Refrigerators\"', 'Barry French', '293', '457.81', '208.16', '68.02', 'Nunavut', 'Appliances', '0.58']\n",
      "['3', '\"Cardinal Slant-D® Ring Binder', ' Heavy Gauge Vinyl\"', 'Barry French', '293', '46.71', '8.69', '2.99', 'Nunavut', 'Binders and Binder Accessories', '0.39']\n",
      "['4', 'R380', 'Clay Rozendal', '483', '1198.97', '195.99', '3.99', 'Nunavut', 'Telephones and Communication', '0.58']\n",
      "['5', 'Holmes HEPA Air Purifier', 'Carlos Soltero', '515', '30.94', '21.78', '5.94', 'Nunavut', 'Appliances', '0.5']\n",
      "['6', 'G.E. Longer-Life Indoor Recessed Floodlight Bulbs', 'Carlos Soltero', '515', '4.43', '6.64', '4.95', 'Nunavut', 'Office Furnishings', '0.37']\n",
      "['7', '\"Angle-D Binders with Locking Rings', ' Label Holders\"', 'Carl Jackson', '613', '-54.04', '7.3', '7.72', 'Nunavut', 'Binders and Binder Accessories', '0.38']\n",
      "['8', '\"SAFCO Mobile Desk Side File', ' Wire Frame\"', 'Carl Jackson', '613', '127.70', '42.76', '6.22', 'Nunavut', 'Storage & Organization', '']\n",
      "['9', '\"SAFCO Commercial Wire Shelving', ' Black\"', 'Monica Federle', '643', '-695.26', '138.14', '35', 'Nunavut', 'Storage & Organization', '']\n",
      "['10', 'Xerox 198', 'Dorothy Badders', '678', '-226.36', '4.98', '8.33', 'Nunavut', 'Paper', '0.38']\n"
     ]
    }
   ],
   "source": [
    "from modules import week2_ex \n",
    "week2_ex.print_file_content(\"data/countries.csv\")"
   ]
  },
  {
   "cell_type": "code",
   "execution_count": 2,
   "metadata": {},
   "outputs": [],
   "source": [
    "from modules import week2_ex\n",
    "data = [(1,\"HAPS\"),(1,\"HAPS\"),(1,\"HAPS\")]\n",
    "week2_ex.write_list_to_file(\"data/write.txt\",data)"
   ]
  },
  {
   "cell_type": "code",
   "execution_count": 3,
   "metadata": {},
   "outputs": [
    {
     "data": {
      "text/plain": [
       "[['1',\n",
       "  '\"Eldon Base for stackable storage shelf',\n",
       "  ' platinum\"',\n",
       "  'Muhammed MacIntyre',\n",
       "  '3',\n",
       "  '-213.25',\n",
       "  '38.94',\n",
       "  '35',\n",
       "  'Nunavut',\n",
       "  'Storage & Organization',\n",
       "  '0.8\\n'],\n",
       " ['2',\n",
       "  '\"1.7 Cubic Foot Compact \"\"Cube\"\" Office Refrigerators\"',\n",
       "  'Barry French',\n",
       "  '293',\n",
       "  '457.81',\n",
       "  '208.16',\n",
       "  '68.02',\n",
       "  'Nunavut',\n",
       "  'Appliances',\n",
       "  '0.58\\n'],\n",
       " ['3',\n",
       "  '\"Cardinal Slant-D® Ring Binder',\n",
       "  ' Heavy Gauge Vinyl\"',\n",
       "  'Barry French',\n",
       "  '293',\n",
       "  '46.71',\n",
       "  '8.69',\n",
       "  '2.99',\n",
       "  'Nunavut',\n",
       "  'Binders and Binder Accessories',\n",
       "  '0.39\\n'],\n",
       " ['4',\n",
       "  'R380',\n",
       "  'Clay Rozendal',\n",
       "  '483',\n",
       "  '1198.97',\n",
       "  '195.99',\n",
       "  '3.99',\n",
       "  'Nunavut',\n",
       "  'Telephones and Communication',\n",
       "  '0.58\\n'],\n",
       " ['5',\n",
       "  'Holmes HEPA Air Purifier',\n",
       "  'Carlos Soltero',\n",
       "  '515',\n",
       "  '30.94',\n",
       "  '21.78',\n",
       "  '5.94',\n",
       "  'Nunavut',\n",
       "  'Appliances',\n",
       "  '0.5\\n'],\n",
       " ['6',\n",
       "  'G.E. Longer-Life Indoor Recessed Floodlight Bulbs',\n",
       "  'Carlos Soltero',\n",
       "  '515',\n",
       "  '4.43',\n",
       "  '6.64',\n",
       "  '4.95',\n",
       "  'Nunavut',\n",
       "  'Office Furnishings',\n",
       "  '0.37\\n'],\n",
       " ['7',\n",
       "  '\"Angle-D Binders with Locking Rings',\n",
       "  ' Label Holders\"',\n",
       "  'Carl Jackson',\n",
       "  '613',\n",
       "  '-54.04',\n",
       "  '7.3',\n",
       "  '7.72',\n",
       "  'Nunavut',\n",
       "  'Binders and Binder Accessories',\n",
       "  '0.38\\n'],\n",
       " ['8',\n",
       "  '\"SAFCO Mobile Desk Side File',\n",
       "  ' Wire Frame\"',\n",
       "  'Carl Jackson',\n",
       "  '613',\n",
       "  '127.70',\n",
       "  '42.76',\n",
       "  '6.22',\n",
       "  'Nunavut',\n",
       "  'Storage & Organization',\n",
       "  '\\n'],\n",
       " ['9',\n",
       "  '\"SAFCO Commercial Wire Shelving',\n",
       "  ' Black\"',\n",
       "  'Monica Federle',\n",
       "  '643',\n",
       "  '-695.26',\n",
       "  '138.14',\n",
       "  '35',\n",
       "  'Nunavut',\n",
       "  'Storage & Organization',\n",
       "  '\\n'],\n",
       " ['10',\n",
       "  'Xerox 198',\n",
       "  'Dorothy Badders',\n",
       "  '678',\n",
       "  '-226.36',\n",
       "  '4.98',\n",
       "  '8.33',\n",
       "  'Nunavut',\n",
       "  'Paper',\n",
       "  '0.38']]"
      ]
     },
     "execution_count": 3,
     "metadata": {},
     "output_type": "execute_result"
    }
   ],
   "source": [
    "from modules import week2_ex\n",
    "week2_ex.read_csv(\"data/countries.csv\")"
   ]
  },
  {
   "cell_type": "markdown",
   "metadata": {},
   "source": [
    "## Solution part 2"
   ]
  },
  {
   "cell_type": "code",
   "execution_count": 4,
   "metadata": {},
   "outputs": [],
   "source": [
    "from modules import utils\n",
    "utils.get_file_name('modules', 'data/tester.txt')"
   ]
  },
  {
   "cell_type": "code",
   "execution_count": 10,
   "metadata": {},
   "outputs": [],
   "source": [
    "from modules import utils\n",
    "utils.get_all_file_names('modules', 'data/tester.txt')"
   ]
  },
  {
   "cell_type": "code",
   "execution_count": 6,
   "metadata": {},
   "outputs": [
    {
     "name": "stdout",
     "output_type": "stream",
     "text": [
      "['#']\n",
      "['#dette er en tekst\\n']\n"
     ]
    }
   ],
   "source": [
    "from modules import utils\n",
    "linjer = ['data/tekst.txt','data/tekst2.txt']\n",
    "utils.print_line_one(linjer)"
   ]
  },
  {
   "cell_type": "code",
   "execution_count": 7,
   "metadata": {},
   "outputs": [],
   "source": [
    "from modules import utils\n",
    "linjer = ['data/tekst.txt','data/tekst2.txt']\n",
    "utils.print_emails(linjer)"
   ]
  },
  {
   "cell_type": "code",
   "execution_count": 17,
   "metadata": {},
   "outputs": [],
   "source": [
    "from modules import utils\n",
    "linjer = ['data/tekst.txt','data/tekst2.txt']\n",
    "utils.write_headlines(linjer, 'data/tester.txt')"
   ]
  },
  {
   "cell_type": "code",
   "execution_count": null,
   "metadata": {},
   "outputs": [],
   "source": []
  }
 ],
 "metadata": {
  "kernelspec": {
   "display_name": "Python 3",
   "language": "python",
   "name": "python3"
  },
  "language_info": {
   "codemirror_mode": {
    "name": "ipython",
    "version": 3
   },
   "file_extension": ".py",
   "mimetype": "text/x-python",
   "name": "python",
   "nbconvert_exporter": "python",
   "pygments_lexer": "ipython3",
   "version": "3.7.6"
  }
 },
 "nbformat": 4,
 "nbformat_minor": 4
}
