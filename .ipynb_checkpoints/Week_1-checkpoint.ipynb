{
 "cells": [
  {
   "cell_type": "markdown",
   "metadata": {},
   "source": [
    "# Week 1 handin"
   ]
  },
  {
   "cell_type": "markdown",
   "metadata": {},
   "source": [
    "## 01 Assignment\n",
    "Create 5 list comprehensions to solve the following 5 problems:\n",
    "\n",
    "Iterate a list of names to return a list of the names starting with H\n",
    "In one line create a list of the numbers 1-100 to the power of 3\n",
    "Iterate a list of names to create a list of tuples where the tuples first value is the length of the name and the second is the name\n",
    "Iterate over each character in a string and get only those that are nummeric\n",
    "Using only a list comprehension wrapped in set() get all possible combination from throwing 2 dice (hint use 2 for loops in a single list comprehension)\n",
    "Create 2 dictionary comprehensions to solve the following:\n",
    "\n",
    "Iterate a list of names and create a dictionary where key is the name and value is the length of the name\n",
    "Iterate a list of numbers and create a dictionary with {key:value} being {number:squareroot_of_number}\n",
    "Extra assignment (This one goes beyond what is covered in the course notebooks. So only do it if you want an extra challenge).\n",
    "\n",
    "Progammatically using loops create a small program to produce a dictionary with all the 2 dice throw combinations as keys and their likelyhood in percent as values"
   ]
  },
  {
   "cell_type": "markdown",
   "metadata": {},
   "source": [
    "## 02 Status\n",
    "Here is a status on the handin. How far you got. What is implemented and what is not"
   ]
  },
  {
   "cell_type": "markdown",
   "metadata": {},
   "source": [
    "## 03 Solution part 1"
   ]
  },
  {
   "cell_type": "code",
   "execution_count": 1,
   "metadata": {},
   "outputs": [
    {
     "name": "stdout",
     "output_type": "stream",
     "text": [
      "['Hans', 'Henning', 'Hansel']\n"
     ]
    }
   ],
   "source": [
    "navne = list([\"Hans\", \"Peter\", \"Morten\", \"Anders\", \"Torben\", \"Henning\", \"Lars\", \"Viktor\", \"Hansel\"])\n",
    "anyHInName = [name for name in navne if(name[0] == \"H\")]\n",
    "print(anyHInName)"
   ]
  },
  {
   "cell_type": "code",
   "execution_count": 2,
   "metadata": {},
   "outputs": [
    {
     "name": "stdout",
     "output_type": "stream",
     "text": [
      "[0, 1, 8, 27, 64, 125, 216, 343, 512, 729, 1000, 1331, 1728, 2197, 2744, 3375, 4096, 4913, 5832, 6859, 8000, 9261, 10648, 12167, 13824, 15625, 17576, 19683, 21952, 24389, 27000, 29791, 32768, 35937, 39304, 42875, 46656, 50653, 54872, 59319, 64000, 68921, 74088, 79507, 85184, 91125, 97336, 103823, 110592, 117649, 125000, 132651, 140608, 148877, 157464, 166375, 175616, 185193, 195112, 205379, 216000, 226981, 238328, 250047, 262144, 274625, 287496, 300763, 314432, 328509, 343000, 357911, 373248, 389017, 405224, 421875, 438976, 456533, 474552, 493039, 512000, 531441, 551368, 571787, 592704, 614125, 636056, 658503, 681472, 704969, 729000, 753571, 778688, 804357, 830584, 857375, 884736, 912673, 941192, 970299, 1000000]\n"
     ]
    }
   ],
   "source": [
    "new_list = [value ** 3 for value in range(0,101)]\n",
    "print(new_list)"
   ]
  },
  {
   "cell_type": "code",
   "execution_count": 3,
   "metadata": {},
   "outputs": [
    {
     "name": "stdout",
     "output_type": "stream",
     "text": [
      "4 Hans\n",
      "5 Peter\n",
      "6 Morten\n",
      "6 Anders\n",
      "6 Torben\n",
      "7 Henning\n",
      "4 Lars\n",
      "6 Viktor\n",
      "6 Hansel\n"
     ]
    }
   ],
   "source": [
    "for name in navne:\n",
    "    length = len(name)\n",
    "    print(length, name)"
   ]
  },
  {
   "cell_type": "code",
   "execution_count": 4,
   "metadata": {},
   "outputs": [
    {
     "name": "stdout",
     "output_type": "stream",
     "text": [
      "1\n",
      "2\n",
      "3\n",
      "1\n",
      "2\n",
      "3\n",
      "5\n",
      "6\n",
      "7\n",
      "6\n",
      "7\n",
      "2\n"
     ]
    }
   ],
   "source": [
    "random = \"haps123ad123567asdadqc672\"\n",
    "\n",
    "for r in random:\n",
    "    if r.isnumeric():\n",
    "        print(r)\n"
   ]
  },
  {
   "cell_type": "code",
   "execution_count": 5,
   "metadata": {
    "scrolled": true
   },
   "outputs": [
    {
     "name": "stdout",
     "output_type": "stream",
     "text": [
      "[(1, 1), (1, 2), (1, 3), (1, 4), (1, 5), (1, 6), (2, 1), (2, 2), (2, 3), (2, 4), (2, 5), (2, 6), (3, 1), (3, 2), (3, 3), (3, 4), (3, 5), (3, 6), (4, 1), (4, 2), (4, 3), (4, 4), (4, 5), (4, 6), (5, 1), (5, 2), (5, 3), (5, 4), (5, 5), (5, 6), (6, 1), (6, 2), (6, 3), (6, 4), (6, 5), (6, 6)]\n"
     ]
    }
   ],
   "source": [
    "roll_combinations = [(d1, d2) for d1 in range(1, 7) for d2 in range(1, 7)]\n",
    "print(roll_combinations)"
   ]
  },
  {
   "cell_type": "markdown",
   "metadata": {},
   "source": [
    "## 04 Solution part 2"
   ]
  },
  {
   "cell_type": "code",
   "execution_count": 6,
   "metadata": {},
   "outputs": [
    {
     "name": "stdout",
     "output_type": "stream",
     "text": [
      "{'preben': 6, 'torsten': 7, 'morten': 6, 'viktor': 6, 'jurgen': 6, 'anders': 6, 'simon': 5, 'rike': 4, 'marcus': 6}\n"
     ]
    }
   ],
   "source": [
    "names = list([\"preben\", \"torsten\", \"morten\",\"viktor\", \"jurgen\", \"anders\",\"simon\",\"rike\", \"marcus\"])\n",
    "#dict_variable = {key:value for (key,value) in dictonary.items()}\n",
    "dict_list = {name:len(name) for name in names}\n",
    "print(dict_list)"
   ]
  },
  {
   "cell_type": "code",
   "execution_count": 7,
   "metadata": {},
   "outputs": [
    {
     "name": "stdout",
     "output_type": "stream",
     "text": [
      "{1: 1, 2: 4, 3: 9, 4: 16, 5: 25, 6: 36, 7: 49, 8: 64, 9: 81, 10: 100, 11: 121, 12: 144, 13: 169, 14: 196, 15: 225, 16: 256, 17: 289, 18: 324}\n"
     ]
    }
   ],
   "source": [
    "numbers = list([1,2,3,4,5,6,7,8,9,10,11,12,13,14,15,16,17,18])\n",
    "dict_number_list= {number:number**2 for number in numbers}\n",
    "print(dict_number_list)"
   ]
  }
 ],
 "metadata": {
  "kernelspec": {
   "display_name": "Python 3",
   "language": "python",
   "name": "python3"
  },
  "language_info": {
   "codemirror_mode": {
    "name": "ipython",
    "version": 3
   },
   "file_extension": ".py",
   "mimetype": "text/x-python",
   "name": "python",
   "nbconvert_exporter": "python",
   "pygments_lexer": "ipython3",
   "version": "3.7.6"
  }
 },
 "nbformat": 4,
 "nbformat_minor": 4
}
