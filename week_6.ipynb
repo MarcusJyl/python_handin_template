{
 "cells": [
  {
   "cell_type": "markdown",
   "metadata": {},
   "source": [
    "# EX6"
   ]
  },
  {
   "cell_type": "markdown",
   "metadata": {},
   "source": [
    "Create a module containing a class: TextComparer with the following methods:\n",
    "1. __init__(self, url_list)\n",
    "2. download(url,filename) raises NotFoundException when url returns 404\n",
    "3. multi_download() uses threads to download multiple urls as text and stores filenames as a property\n",
    "4. __iter__() returns an iterator\n",
    "5. __next__() returns the next filename (and stops when there are no more)\n",
    "6. urllist_generator() returns a generator to loop through the urls\n",
    "7. avg_vowels(text) - a rough estimate on readability returns average number of vowels in the words of the text\n",
    "8. hardest_read() returns the filename of the text with the highest vowel score (use all the cpu cores on the computer for this work.\n",
    "​\n",
    "### Ex 2\n",
    "Create a notebook and import your module from above\n",
    "1. Find 10 books on https://www.gutenberg.org/browse/scores/top and download them using an object of the class you just created before\n",
    "2. Test the different methods of your class\n",
    "3. Make a bar plot with a sorted list of books on x-axis and avg vowels on y-axis\n",
    "​"
   ]
  },
  {
   "cell_type": "code",
   "execution_count": 129,
   "metadata": {},
   "outputs": [],
   "source": [
    "from concurrent.futures import ThreadPoolExecutor\n",
    "from concurrent.futures import ProcessPoolExecutor\n",
    "import multiprocessing\n",
    "import modules.webget as webget\n",
    "class TextComparer():\n",
    "    def __init__(self, url_list=[]):\n",
    "        self.url_list = url_list\n",
    "        self.books = self.multi_download(self.download, url_list)\n",
    "        print(self.books)\n",
    "        \n",
    "    def download(self, url):\n",
    "        return webget.download(url)\n",
    "        \n",
    "   \n",
    "    def multi_download(self, func, args, workers=5):\n",
    "        with ThreadPoolExecutor(workers) as ex:\n",
    "            res = ex.map(func, args)\n",
    "        return list(res)\n",
    "        \n",
    "    def __iter__(self):\n",
    "        return self\n",
    "    \n",
    "    def __next__(self):\n",
    "        if url_list.len() == 0:\n",
    "            raise StopIteration\n",
    "        return filename\n",
    "             \n",
    "    def urllist_generator(self):\n",
    "        for url in url_list:\n",
    "            yield url\n",
    "        \n",
    "    def avg_vovels(self, text):\n",
    "        vovel = ('aeiouyAEIOUY')\n",
    "        word_count = 0\n",
    "        char_count = 0\n",
    "        with open (text,'r') as text_object:\n",
    "            content = text_object.readlines()\n",
    "            for line in content:\n",
    "                for word in line:\n",
    "                    word_count +=1\n",
    "                    for character in word:\n",
    "                        if character in vovel:\n",
    "                            char_count += 1\n",
    "        return word_count/char_count\n",
    "    \n",
    "\n",
    "    def hardest_read(self):\n",
    "        read = self.multiprocess(self.avg_vovels, self.books)\n",
    "        read_dict={read[i]: self.books[i] for i in range(len(read))}\n",
    "        sorted_dicto = sorted(read_dict.items(), key=lambda item: item[1])\n",
    "        return sorted_dicto[-1]\n",
    "        \n",
    "            \n",
    "    def multiprocess(self, func, args, workers=multiprocessing.cpu_count()):\n",
    "        with ProcessPoolExecutor(workers) as ex:\n",
    "            res = ex.map(func, args)\n",
    "        return list(res)\n",
    "        \n",
    "\n"
   ]
  },
  {
   "cell_type": "code",
   "execution_count": 131,
   "metadata": {},
   "outputs": [
    {
     "name": "stdout",
     "output_type": "stream",
     "text": [
      "['./84-0.txt', './1342-0.txt', './64317-0.txt']\n"
     ]
    },
    {
     "data": {
      "text/plain": [
       "(3.1118083326242947, './84-0.txt')"
      ]
     },
     "execution_count": 131,
     "metadata": {},
     "output_type": "execute_result"
    }
   ],
   "source": [
    "url_list =['https://www.gutenberg.org/files/84/84-0.txt','https://www.gutenberg.org/files/1342/1342-0.txt','https://www.gutenberg.org/files/64317/64317-0.txt']\n",
    "tc = TextComparer(url_list)\n",
    "\n",
    "tc.hardest_read()\n"
   ]
  },
  {
   "cell_type": "code",
   "execution_count": null,
   "metadata": {},
   "outputs": [],
   "source": []
  }
 ],
 "metadata": {
  "kernelspec": {
   "display_name": "Python 3",
   "language": "python",
   "name": "python3"
  },
  "language_info": {
   "codemirror_mode": {
    "name": "ipython",
    "version": 3
   },
   "file_extension": ".py",
   "mimetype": "text/x-python",
   "name": "python",
   "nbconvert_exporter": "python",
   "pygments_lexer": "ipython3",
   "version": "3.7.6"
  }
 },
 "nbformat": 4,
 "nbformat_minor": 4
}
