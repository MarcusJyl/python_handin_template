{
 "cells": [
  {
   "cell_type": "code",
   "execution_count": 25,
   "metadata": {
    "scrolled": true
   },
   "outputs": [
    {
     "name": "stdout",
     "output_type": "stream",
     "text": [
      "\"Asus TUF Gaming A15 FX506 15,6\\\" gaming computer (sort)\": \"9999\\r\", \"MSI GF63 Thin 9SCXR-1252NE 15,6\\\" bærbar gaming computer (sort)\": \"4999\\r\", \"HP Pavilion 15-ec1816no 15,6\\\" bærbar gaming computer\": \"7499\", \"Asus ROG Strix G153QR 15,6\\\" bærbar gaming computer (grå)\": \"15999\", \"Asus TUF Gaming A15 FX506 15,6\\\" bærbar gaming computer\": \"8499\", \"Asus TUF Gaming A17 FA706QM 17,3\\\" bærbar gaming computer (grå)\": \"11999\", \"Asus ZenBook Pro 15 UX535 15,6\\\" bærbar computer i7/16/512/1650Ti/FHD\": \"13499\", \"Asus TUF Gaming A17 FX706II-H7048T 17,3\\\" bærbar gaming computer (grå)\": \"7999\", \"Asus TUF Gaming A15 FA506 15,6\\\" bærbar computer R5/8/512/1660T\": \"7999\"\n"
     ]
    },
    {
     "data": {
      "text/plain": [
       "<BarContainer object of 9 artists>"
      ]
     },
     "execution_count": 25,
     "metadata": {},
     "output_type": "execute_result"
    },
    {
     "data": {
      "image/png": "[encoded data removed]",
      "text/plain": [
       "<Figure size 432x288 with 1 Axes>"
      ]
     },
     "metadata": {
      "needs_background": "light"
     },
     "output_type": "display_data"
    }
   ],
   "source": [
    "import bs4\n",
    "import requests\n",
    "import re\n",
    "import matplotlib.pyplot as plt\n",
    "import ast\n",
    "import json\n",
    "\n",
    "url = 'https://www.elgiganten.dk/catalog/gaming/dk-gaming-laptop/gaming-laptop'\n",
    "\n",
    "r = requests.get(url)\n",
    "r.raise_for_status()\n",
    "soup = bs4.BeautifulSoup(r.text, 'html.parser')\n",
    "\n",
    "event_cells = soup.find_all('div',{'class':'product-list-container'})\n",
    "#print(event_cells[0])\n",
    "title_array = []\n",
    "price_array = []\n",
    "\n",
    "for event_cell in event_cells:\n",
    "    title = soup.find_all('a', {'class' :'product-name'})\n",
    "    price = soup.find_all('div',{'class':'product-price'})\n",
    "    for tag in title:\n",
    "        title_array.append(tag.text.strip())\n",
    "    for div in price:\n",
    "        price_array.append(div.text.replace('\\xa0','').strip()[:5])\n",
    "        \n",
    "zipped = dict(zip(title_array,price_array))\n",
    "\n",
    "\n",
    "combined_string = json.dumps(zipped, ensure_ascii=False)\n",
    "\n",
    "\n",
    "asuses = re.compile(r'\\\"Asus.*?\\d{3}\\\"')\n",
    "\n",
    "ass = asuses.findall(combined_string)\n",
    "\n",
    "anus = \", \".join(ass)\n",
    "\n",
    "print(anus)\n",
    "\n",
    "anus_dict = ast.literal_eval(\"{\"+anus+\"}\")\n",
    "anus_dict = {k: v for k, v in sorted(anus_dict.items(), key=lambda item: item[0])}\n",
    "\n",
    "\n",
    "plt.bar(anus_dict.keys(),anus_dict.values())\n",
    "#plt.bar(zipped.keys(),zipped.values())\n",
    "\n",
    "\n",
    "\n"
   ]
  },
  {
   "cell_type": "code",
   "execution_count": null,
   "metadata": {},
   "outputs": [],
   "source": []
  }
 ],
 "metadata": {
  "kernelspec": {
   "display_name": "Python 3",
   "language": "python",
   "name": "python3"
  },
  "language_info": {
   "codemirror_mode": {
    "name": "ipython",
    "version": 3
   },
   "file_extension": ".py",
   "mimetype": "text/x-python",
   "name": "python",
   "nbconvert_exporter": "python",
   "pygments_lexer": "ipython3",
   "version": "3.7.6"
  }
 },
 "nbformat": 4,
 "nbformat_minor": 4
}
